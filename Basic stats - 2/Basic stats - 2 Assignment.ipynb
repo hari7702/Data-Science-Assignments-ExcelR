{
 "cells": [
  {
   "cell_type": "code",
   "execution_count": 1,
   "id": "cd7aafe1",
   "metadata": {},
   "outputs": [],
   "source": [
    "import numpy as np\n",
    "from scipy import stats"
   ]
  },
  {
   "cell_type": "code",
   "execution_count": 2,
   "id": "3303df92",
   "metadata": {},
   "outputs": [],
   "source": [
    "data = [1.13, 1.55, 1.43, 0.92, 1.25, 1.36, 1.32, 0.85, 1.07, 1.48, 1.20, 1.33, 1.18, 1.22, 1.29]"
   ]
  },
  {
   "cell_type": "markdown",
   "id": "3e0da04c",
   "metadata": {},
   "source": [
    "# Task a: Build 99% Confidence Interval Using Sample Standard Deviation"
   ]
  },
  {
   "cell_type": "code",
   "execution_count": 3,
   "id": "4b71fede",
   "metadata": {},
   "outputs": [],
   "source": [
    "n = len(data)"
   ]
  },
  {
   "cell_type": "code",
   "execution_count": 4,
   "id": "19e96eed",
   "metadata": {},
   "outputs": [],
   "source": [
    "sample_mean = np.mean(data)"
   ]
  },
  {
   "cell_type": "code",
   "execution_count": 8,
   "id": "c14d5443",
   "metadata": {},
   "outputs": [],
   "source": [
    "sample_std = np.std(data, ddof=1)"
   ]
  },
  {
   "cell_type": "code",
   "execution_count": 9,
   "id": "57ad968f",
   "metadata": {},
   "outputs": [],
   "source": [
    "t_value = stats.t.ppf(0.995, df=n-1) "
   ]
  },
  {
   "cell_type": "code",
   "execution_count": 10,
   "id": "b89ce970",
   "metadata": {},
   "outputs": [],
   "source": [
    "margin_of_error = t_value * (sample_std / np.sqrt(n))"
   ]
  },
  {
   "cell_type": "code",
   "execution_count": 11,
   "id": "491609ea",
   "metadata": {},
   "outputs": [],
   "source": [
    "ci_lower = sample_mean - margin_of_error\n",
    "ci_upper = sample_mean + margin_of_error"
   ]
  },
  {
   "cell_type": "code",
   "execution_count": 12,
   "id": "82ececaa",
   "metadata": {},
   "outputs": [
    {
     "name": "stdout",
     "output_type": "stream",
     "text": [
      "Task a: Confidence Interval Using Sample Standard Deviation\n",
      "Sample Mean: 1.239\n",
      "Sample Standard Deviation: 0.193\n",
      "T-value: 2.977\n",
      "Margin of Error: 0.148\n",
      "99% Confidence Interval: (1.090, 1.387)\n",
      "\n"
     ]
    }
   ],
   "source": [
    "print(\"Task a: Confidence Interval Using Sample Standard Deviation\")\n",
    "print(f\"Sample Mean: {sample_mean:.3f}\")\n",
    "print(f\"Sample Standard Deviation: {sample_std:.3f}\")\n",
    "print(f\"T-value: {t_value:.3f}\")\n",
    "print(f\"Margin of Error: {margin_of_error:.3f}\")\n",
    "print(f\"99% Confidence Interval: ({ci_lower:.3f}, {ci_upper:.3f})\")\n",
    "print()"
   ]
  },
  {
   "cell_type": "markdown",
   "id": "f3a2d05b",
   "metadata": {},
   "source": [
    "# Task b: Build 99% Confidence Interval Using Known Population Standard Deviation"
   ]
  },
  {
   "cell_type": "code",
   "execution_count": 13,
   "id": "0ee6c949",
   "metadata": {},
   "outputs": [],
   "source": [
    "population_std = 0.2"
   ]
  },
  {
   "cell_type": "code",
   "execution_count": 14,
   "id": "e4b9ba6e",
   "metadata": {},
   "outputs": [],
   "source": [
    "z_value = stats.norm.ppf(0.995)"
   ]
  },
  {
   "cell_type": "code",
   "execution_count": 15,
   "id": "fbe17ab4",
   "metadata": {},
   "outputs": [],
   "source": [
    "margin_of_error_known_pop = z_value * (population_std / np.sqrt(n))\n"
   ]
  },
  {
   "cell_type": "code",
   "execution_count": 16,
   "id": "4ae571df",
   "metadata": {},
   "outputs": [],
   "source": [
    "ci_lower_known_pop = sample_mean - margin_of_error_known_pop\n",
    "ci_upper_known_pop = sample_mean + margin_of_error_known_pop"
   ]
  },
  {
   "cell_type": "code",
   "execution_count": 17,
   "id": "8ada26f3",
   "metadata": {},
   "outputs": [
    {
     "name": "stdout",
     "output_type": "stream",
     "text": [
      "Task b: Confidence Interval Using Known Population Standard Deviation\n",
      "Z-value: 2.576\n",
      "Margin of Error (Known Population SD): 0.133\n",
      "99% Confidence Interval: (1.106, 1.372)\n"
     ]
    }
   ],
   "source": [
    "print(\"Task b: Confidence Interval Using Known Population Standard Deviation\")\n",
    "print(f\"Z-value: {z_value:.3f}\")\n",
    "print(f\"Margin of Error (Known Population SD): {margin_of_error_known_pop:.3f}\")\n",
    "print(f\"99% Confidence Interval: ({ci_lower_known_pop:.3f}, {ci_upper_known_pop:.3f})\")"
   ]
  },
  {
   "cell_type": "code",
   "execution_count": null,
   "id": "2bc41411",
   "metadata": {},
   "outputs": [],
   "source": []
  }
 ],
 "metadata": {
  "kernelspec": {
   "display_name": "Python 3 (ipykernel)",
   "language": "python",
   "name": "python3"
  },
  "language_info": {
   "codemirror_mode": {
    "name": "ipython",
    "version": 3
   },
   "file_extension": ".py",
   "mimetype": "text/x-python",
   "name": "python",
   "nbconvert_exporter": "python",
   "pygments_lexer": "ipython3",
   "version": "3.11.5"
  }
 },
 "nbformat": 4,
 "nbformat_minor": 5
}
