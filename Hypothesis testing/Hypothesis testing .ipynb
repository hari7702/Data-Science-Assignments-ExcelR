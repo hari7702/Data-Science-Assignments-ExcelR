{
 "cells": [
  {
   "cell_type": "code",
   "execution_count": 1,
   "id": "99c3a972",
   "metadata": {},
   "outputs": [],
   "source": [
    "import numpy as np\n",
    "import scipy.stats as stats"
   ]
  },
  {
   "cell_type": "markdown",
   "id": "90d65807",
   "metadata": {},
   "source": [
    "# Task 1: State the Hypotheses"
   ]
  },
  {
   "cell_type": "markdown",
   "id": "cb0af85f",
   "metadata": {},
   "source": [
    "### Null Hypothesis (H0): The weekly operating cost follows the theoretical cost model (W = $1,000 + $5X).\n",
    "\n",
    "\n",
    "### Alternative Hypothesis (HA): The weekly operating cost is higher than the theoretical cost model.\n"
   ]
  },
  {
   "cell_type": "code",
   "execution_count": 2,
   "id": "034b4da8",
   "metadata": {},
   "outputs": [
    {
     "name": "stdout",
     "output_type": "stream",
     "text": [
      "Task 1: State the Hypotheses\n",
      "H0 (Null Hypothesis): The weekly operating cost follows the theoretical cost model (W = $1,000 + $5X).\n",
      "HA (Alternative Hypothesis): The weekly operating cost is higher than the theoretical cost model.\n",
      "\n"
     ]
    }
   ],
   "source": [
    "print(\"Task 1: State the Hypotheses\")\n",
    "print(\"H0 (Null Hypothesis): The weekly operating cost follows the theoretical cost model (W = $1,000 + $5X).\")\n",
    "print(\"HA (Alternative Hypothesis): The weekly operating cost is higher than the theoretical cost model.\")\n",
    "print()"
   ]
  },
  {
   "cell_type": "markdown",
   "id": "ff4103b8",
   "metadata": {},
   "source": [
    "# Task 2: Calculate the Test Statistic"
   ]
  },
  {
   "cell_type": "code",
   "execution_count": 3,
   "id": "1ab2923f",
   "metadata": {},
   "outputs": [],
   "source": [
    "# - Sample mean weekly cost (x̄): Rs. 3,050\n",
    "sample_mean = 3050"
   ]
  },
  {
   "cell_type": "code",
   "execution_count": 4,
   "id": "12516a4a",
   "metadata": {},
   "outputs": [],
   "source": [
    "# - Theoretical mean weekly cost (μ): Rs. 1,000 + 5 * 600 = Rs. 4,000\n",
    "theoretical_mean = 1000 + 5 * 600  # Calculated from the given formula"
   ]
  },
  {
   "cell_type": "code",
   "execution_count": 5,
   "id": "4ffb0d52",
   "metadata": {},
   "outputs": [],
   "source": [
    "# - Standard deviation (σ): 5 * 25 = Rs. 125\n",
    "standard_deviation = 5 * 25"
   ]
  },
  {
   "cell_type": "code",
   "execution_count": 6,
   "id": "7d86628f",
   "metadata": {},
   "outputs": [],
   "source": [
    "# - Sample size (n): 25\n",
    "sample_size = 25"
   ]
  },
  {
   "cell_type": "code",
   "execution_count": 8,
   "id": "a79b1f36",
   "metadata": {},
   "outputs": [],
   "source": [
    "# Calculate the test statistic (t)\n",
    "t = (sample_mean - theoretical_mean) / (standard_deviation / np.sqrt(sample_size))"
   ]
  },
  {
   "cell_type": "code",
   "execution_count": 10,
   "id": "90c626bf",
   "metadata": {},
   "outputs": [
    {
     "name": "stdout",
     "output_type": "stream",
     "text": [
      "Test Statistic (t): -38.000\n",
      "\n"
     ]
    }
   ],
   "source": [
    "print(f\"Test Statistic (t): {t:.3f}\")\n",
    "print()"
   ]
  },
  {
   "cell_type": "markdown",
   "id": "1ae90ad3",
   "metadata": {},
   "source": [
    "# Task 3: Determine the Critical Value"
   ]
  },
  {
   "cell_type": "code",
   "execution_count": 11,
   "id": "9794fb6b",
   "metadata": {},
   "outputs": [],
   "source": [
    "# Using the alpha level of 5% (α = 0.05), determine the critical value from the standard normal (Z) distribution.\n",
    "alpha = 0.05"
   ]
  },
  {
   "cell_type": "code",
   "execution_count": 12,
   "id": "5c5a61b8",
   "metadata": {},
   "outputs": [],
   "source": [
    "# Since this is a one-sided test (greater than), we use the 95th percentile.\n",
    "critical_value = stats.norm.ppf(1 - alpha)"
   ]
  },
  {
   "cell_type": "code",
   "execution_count": 14,
   "id": "2e88f2fc",
   "metadata": {},
   "outputs": [
    {
     "name": "stdout",
     "output_type": "stream",
     "text": [
      "Critical Value: 1.645\n",
      "\n"
     ]
    }
   ],
   "source": [
    "print(f\"Critical Value: {critical_value:.3f}\")\n",
    "print()"
   ]
  },
  {
   "cell_type": "markdown",
   "id": "83d68cef",
   "metadata": {},
   "source": [
    "# Task 4: Make a Decision"
   ]
  },
  {
   "cell_type": "code",
   "execution_count": 15,
   "id": "59937da2",
   "metadata": {},
   "outputs": [],
   "source": [
    "# Compare the test statistic with the critical value to decide whether to reject the null hypothesis.\n",
    "reject_null = t > critical_value"
   ]
  },
  {
   "cell_type": "code",
   "execution_count": 16,
   "id": "9359b3d0",
   "metadata": {},
   "outputs": [
    {
     "name": "stdout",
     "output_type": "stream",
     "text": [
      "Decision: Fail to reject the Null Hypothesis. There is no significant evidence to suggest that the weekly operating costs are higher than the theoretical cost model.\n",
      "\n"
     ]
    }
   ],
   "source": [
    "if reject_null:\n",
    "    print(\"Decision: Reject the Null Hypothesis. There is significant evidence to suggest that the weekly operating costs are higher than the theoretical cost model.\")\n",
    "else:\n",
    "    print(\"Decision: Fail to reject the Null Hypothesis. There is no significant evidence to suggest that the weekly operating costs are higher than the theoretical cost model.\")\n",
    "print()"
   ]
  },
  {
   "cell_type": "markdown",
   "id": "5752fb0c",
   "metadata": {},
   "source": [
    "## Conclusion\n",
    "\n",
    "### The data does not support the claim that the weekly operating costs are higher than the theoretical cost model."
   ]
  },
  {
   "cell_type": "code",
   "execution_count": 17,
   "id": "389e6bd7",
   "metadata": {},
   "outputs": [],
   "source": [
    "# Hypotheses:\n",
    "## Null Hypothesis (H0): The weekly operating cost follows the theoretical cost model.\n",
    "## Alternative Hypothesis (HA): The weekly operating cost is higher than the theoretical cost model.\n",
    "\n",
    "# Test Statistic (t): The calculated test statistic is -76.071.\n",
    "\n",
    "# Critical Value: The critical value with an alpha level of 5% (one-sided test) is approximately 1.645.\n",
    "\n",
    "#Decision: Since the test statistic (-76.071) is less than the critical value (1.645), we fail to reject the null hypothesis."
   ]
  },
  {
   "cell_type": "code",
   "execution_count": null,
   "id": "013674d7",
   "metadata": {},
   "outputs": [],
   "source": []
  }
 ],
 "metadata": {
  "kernelspec": {
   "display_name": "Python 3 (ipykernel)",
   "language": "python",
   "name": "python3"
  },
  "language_info": {
   "codemirror_mode": {
    "name": "ipython",
    "version": 3
   },
   "file_extension": ".py",
   "mimetype": "text/x-python",
   "name": "python",
   "nbconvert_exporter": "python",
   "pygments_lexer": "ipython3",
   "version": "3.11.5"
  }
 },
 "nbformat": 4,
 "nbformat_minor": 5
}
