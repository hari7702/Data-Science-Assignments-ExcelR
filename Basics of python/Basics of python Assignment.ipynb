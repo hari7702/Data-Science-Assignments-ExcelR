{
 "cells": [
  {
   "cell_type": "markdown",
   "id": "ecba8b52",
   "metadata": {},
   "source": [
    "# Exercise 1: Prime Numbers"
   ]
  },
  {
   "cell_type": "code",
   "execution_count": 13,
   "id": "bb0c5d8c",
   "metadata": {},
   "outputs": [],
   "source": [
    "def is_prime(n):\n",
    "    if n <= 1:\n",
    "        return False\n",
    "    for i in range(2, int(n ** 0.5) + 1):\n",
    "        if n % i == 0:\n",
    "            return False\n",
    "    return True"
   ]
  },
  {
   "cell_type": "code",
   "execution_count": 15,
   "id": "00a0ab33",
   "metadata": {},
   "outputs": [
    {
     "name": "stdout",
     "output_type": "stream",
     "text": [
      "1 is Not Prime\n",
      "2 is Prime\n",
      "3 is Prime\n",
      "4 is Not Prime\n",
      "5 is Prime\n",
      "10 is Not Prime\n",
      "17 is Prime\n",
      "18 is Not Prime\n",
      "19 is Prime\n",
      "23 is Prime\n"
     ]
    }
   ],
   "source": [
    "# Test with some examples\n",
    "numbers_to_check = [1, 2, 3, 4, 5, 10, 17, 18, 19, 23]\n",
    "for num in numbers_to_check:\n",
    "    result = \"Prime\" if is_prime(num) else \"Not Prime\"\n",
    "    print(f\"{num} is {result}\")"
   ]
  },
  {
   "cell_type": "markdown",
   "id": "9b9c07c0",
   "metadata": {},
   "source": [
    "# Exercise 2: Product of Random Numbers"
   ]
  },
  {
   "cell_type": "code",
   "execution_count": 24,
   "id": "ae55d7c6",
   "metadata": {},
   "outputs": [],
   "source": [
    "import random"
   ]
  },
  {
   "cell_type": "code",
   "execution_count": 25,
   "id": "a456a980",
   "metadata": {},
   "outputs": [],
   "source": [
    "def random_product():\n",
    "    # Function to generate two random numbers and check user's product answer\n",
    "    a = random.randint(1, 10)\n",
    "    b = random.randint(1, 10)\n",
    "    correct_answer = a * b\n",
    "    print(f\"What is {a} * {b}?\")\n",
    "    user_answer = int(input(\"Your answer: \"))\n",
    "    if user_answer == correct_answer:\n",
    "        print(\"Correct!\")\n",
    "    else:\n",
    "        print(f\"Incorrect. The correct answer is {correct_answer}.\")"
   ]
  },
  {
   "cell_type": "code",
   "execution_count": 26,
   "id": "c4a081ab",
   "metadata": {},
   "outputs": [
    {
     "name": "stdout",
     "output_type": "stream",
     "text": [
      "Exercise 2: Product of Random Numbers\n",
      "What is 2 * 9?\n",
      "Your answer: 10\n",
      "Incorrect. The correct answer is 18.\n",
      "\n"
     ]
    }
   ],
   "source": [
    "print(\"Exercise 2: Product of Random Numbers\")\n",
    "random_product()\n",
    "print()"
   ]
  },
  {
   "cell_type": "code",
   "execution_count": 27,
   "id": "ced36fc4",
   "metadata": {},
   "outputs": [
    {
     "name": "stdout",
     "output_type": "stream",
     "text": [
      "Exercise 2: Product of Random Numbers\n",
      "What is 5 * 9?\n",
      "Your answer: 45\n",
      "Correct!\n",
      "\n"
     ]
    }
   ],
   "source": [
    "print(\"Exercise 2: Product of Random Numbers\")\n",
    "random_product()\n",
    "print()"
   ]
  },
  {
   "cell_type": "markdown",
   "id": "24098be2",
   "metadata": {},
   "source": [
    "# Exercise 3: Squares of Even/Odd Numbers"
   ]
  },
  {
   "cell_type": "code",
   "execution_count": 20,
   "id": "7b2692df",
   "metadata": {},
   "outputs": [],
   "source": [
    "def squares_of_even_odd(start, end, even=True):\n",
    "    # Function to print squares of either even or odd numbers within a range\n",
    "    print(\"Squares of \" + (\"even\" if even else \"odd\") + \" numbers:\")\n",
    "    for i in range(start, end):\n",
    "        if even and i % 2 == 0:\n",
    "            print(f\"{i}^2 = {i**2}\")\n",
    "        elif not even and i % 2 != 0:\n",
    "            print(f\"{i}^2 = {i**2}\")"
   ]
  },
  {
   "cell_type": "code",
   "execution_count": 21,
   "id": "96f9d708",
   "metadata": {},
   "outputs": [
    {
     "name": "stdout",
     "output_type": "stream",
     "text": [
      "Exercise 3: Squares of Even/Odd Numbers\n",
      "Squares of even numbers:\n",
      "100^2 = 10000\n",
      "102^2 = 10404\n",
      "104^2 = 10816\n",
      "106^2 = 11236\n",
      "108^2 = 11664\n",
      "110^2 = 12100\n",
      "112^2 = 12544\n",
      "114^2 = 12996\n",
      "116^2 = 13456\n",
      "118^2 = 13924\n",
      "120^2 = 14400\n",
      "122^2 = 14884\n",
      "124^2 = 15376\n",
      "126^2 = 15876\n",
      "128^2 = 16384\n",
      "130^2 = 16900\n",
      "132^2 = 17424\n",
      "134^2 = 17956\n",
      "136^2 = 18496\n",
      "138^2 = 19044\n",
      "140^2 = 19600\n",
      "142^2 = 20164\n",
      "144^2 = 20736\n",
      "146^2 = 21316\n",
      "148^2 = 21904\n",
      "150^2 = 22500\n",
      "152^2 = 23104\n",
      "154^2 = 23716\n",
      "156^2 = 24336\n",
      "158^2 = 24964\n",
      "160^2 = 25600\n",
      "162^2 = 26244\n",
      "164^2 = 26896\n",
      "166^2 = 27556\n",
      "168^2 = 28224\n",
      "170^2 = 28900\n",
      "172^2 = 29584\n",
      "174^2 = 30276\n",
      "176^2 = 30976\n",
      "178^2 = 31684\n",
      "180^2 = 32400\n",
      "182^2 = 33124\n",
      "184^2 = 33856\n",
      "186^2 = 34596\n",
      "188^2 = 35344\n",
      "190^2 = 36100\n",
      "192^2 = 36864\n",
      "194^2 = 37636\n",
      "196^2 = 38416\n",
      "198^2 = 39204\n",
      "\n"
     ]
    }
   ],
   "source": [
    "print(\"Exercise 3: Squares of Even/Odd Numbers\")\n",
    "squares_of_even_odd(100, 200, even=True)  # Adjust 'even' to True for even numbers, False for odd numbers\n",
    "print()"
   ]
  },
  {
   "cell_type": "markdown",
   "id": "4f56fbf6",
   "metadata": {},
   "source": [
    "# Exercise 4: Word Counter"
   ]
  },
  {
   "cell_type": "code",
   "execution_count": 28,
   "id": "4717ac68",
   "metadata": {},
   "outputs": [],
   "source": [
    "import re"
   ]
  },
  {
   "cell_type": "code",
   "execution_count": 29,
   "id": "5cd71511",
   "metadata": {},
   "outputs": [],
   "source": [
    "def word_counter(text):\n",
    "    # Function to count words in a given text\n",
    "    words = text.split()\n",
    "    word_count = {}\n",
    "    for word in words:\n",
    "        # Removing punctuation and converting to lowercase for accurate counting\n",
    "        clean_word = re.sub(r'\\W', '', word).lower()\n",
    "        if clean_word not in word_count:\n",
    "            word_count[clean_word] = 1\n",
    "        else:\n",
    "            word_count[clean_word] += 1\n",
    "    return word_count"
   ]
  },
  {
   "cell_type": "code",
   "execution_count": 30,
   "id": "89a30643",
   "metadata": {},
   "outputs": [
    {
     "name": "stdout",
     "output_type": "stream",
     "text": [
      "Exercise 4: Word Counter\n",
      "'this': 2\n",
      "'is': 1\n",
      "'a': 1\n",
      "'sample': 1\n",
      "'text': 2\n",
      "'will': 1\n",
      "'be': 1\n",
      "'used': 1\n",
      "'to': 1\n",
      "'demonstrate': 1\n",
      "'the': 1\n",
      "'word': 1\n",
      "'counter': 1\n",
      "\n"
     ]
    }
   ],
   "source": [
    "input_text = \"This is a sample text. This text will be used to demonstrate the word counter.\"\n",
    "print(\"Exercise 4: Word Counter\")\n",
    "result = word_counter(input_text)\n",
    "for word, count in result.items():\n",
    "    print(f\"'{word}': {count}\")\n",
    "print()"
   ]
  },
  {
   "cell_type": "markdown",
   "id": "76fe39f7",
   "metadata": {},
   "source": [
    "# Exercise 5: Check for Palindrome"
   ]
  },
  {
   "cell_type": "code",
   "execution_count": 31,
   "id": "796f4f35",
   "metadata": {},
   "outputs": [],
   "source": [
    "def is_palindrome(text):\n",
    "    # Function to check if a text is a palindrome\n",
    "    # Clean the text (remove spaces, punctuation, and convert to lowercase)\n",
    "    cleaned_text = re.sub(r'\\W', '', text).replace(\" \", \"\").lower()\n",
    "    return cleaned_text == cleaned_text[::-1]"
   ]
  },
  {
   "cell_type": "code",
   "execution_count": 32,
   "id": "765bd23c",
   "metadata": {},
   "outputs": [
    {
     "name": "stdout",
     "output_type": "stream",
     "text": [
      "Exercise 5: Check for Palindrome\n",
      "'racecar' is a palindrome: True\n",
      "'level' is a palindrome: True\n",
      "'hello' is a palindrome: False\n",
      "'world' is a palindrome: False\n",
      "'A man a plan a canal Panama' is a palindrome: True\n"
     ]
    }
   ],
   "source": [
    "print(\"Exercise 5: Check for Palindrome\")\n",
    "test_words = [\"racecar\", \"level\", \"hello\", \"world\", \"A man a plan a canal Panama\"]\n",
    "for word in test_words:\n",
    "    result = is_palindrome(word)\n",
    "    print(f\"'{word}' is a palindrome: {result}\")"
   ]
  },
  {
   "cell_type": "code",
   "execution_count": null,
   "id": "39cdc9ae",
   "metadata": {},
   "outputs": [],
   "source": []
  }
 ],
 "metadata": {
  "kernelspec": {
   "display_name": "Python 3 (ipykernel)",
   "language": "python",
   "name": "python3"
  },
  "language_info": {
   "codemirror_mode": {
    "name": "ipython",
    "version": 3
   },
   "file_extension": ".py",
   "mimetype": "text/x-python",
   "name": "python",
   "nbconvert_exporter": "python",
   "pygments_lexer": "ipython3",
   "version": "3.11.5"
  }
 },
 "nbformat": 4,
 "nbformat_minor": 5
}
